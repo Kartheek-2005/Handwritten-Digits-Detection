{
 "cells": [
  {
   "cell_type": "markdown",
   "id": "36bef52a",
   "metadata": {},
   "source": [
    "<h3>Data loading</h3>"
   ]
  },
  {
   "cell_type": "code",
   "execution_count": 1,
   "id": "ae48d213",
   "metadata": {},
   "outputs": [],
   "source": [
    "from keras.datasets import mnist\n",
    "\n",
    "(train_images, train_labels), (test_images, test_labels) = mnist.load_data()"
   ]
  },
  {
   "cell_type": "code",
   "execution_count": 2,
   "id": "98dcaaee",
   "metadata": {},
   "outputs": [
    {
     "name": "stdout",
     "output_type": "stream",
     "text": [
      "(60000, 28, 28) (60000,) (10000, 28, 28) (10000,)\n"
     ]
    }
   ],
   "source": [
    "print(train_images.shape, train_labels.shape, test_images.shape, test_labels.shape)\n",
    "\n",
    "m = len(train_labels)\n",
    "m_test = len(test_labels)"
   ]
  },
  {
   "cell_type": "code",
   "execution_count": 3,
   "id": "c454442a",
   "metadata": {},
   "outputs": [
    {
     "data": {
      "text/plain": [
       "array([5, 0, 4, ..., 5, 6, 8], dtype=uint8)"
      ]
     },
     "execution_count": 3,
     "metadata": {},
     "output_type": "execute_result"
    }
   ],
   "source": [
    "train_labels"
   ]
  },
  {
   "cell_type": "markdown",
   "id": "4ffb9b65",
   "metadata": {},
   "source": [
    "<h3>Network architecture</h3>"
   ]
  },
  {
   "cell_type": "code",
   "execution_count": 4,
   "id": "b7136769",
   "metadata": {},
   "outputs": [],
   "source": [
    "from keras import models\n",
    "from keras import layers\n",
    "\n",
    "network = models.Sequential()\n",
    "# Convolution and Pooling layers\n",
    "network.add(layers.Conv2D(32, (3, 3), activation = 'relu', input_shape = (28, 28, 1)))\n",
    "network.add(layers.MaxPooling2D(2, 2))\n",
    "# Fully connected layers\n",
    "network.add(layers.Flatten())\n",
    "network.add(layers.Dense(128, activation = 'relu'))             # 512 bcoz it is 256*2\n",
    "network.add(layers.Dense(10, activation = 'softmax'))\n",
    "\n",
    "# Compile\n",
    "network.compile(optimizer = 'rmsprop', loss = 'categorical_crossentropy', metrics = ['accuracy'])"
   ]
  },
  {
   "cell_type": "markdown",
   "id": "9a298a19",
   "metadata": {},
   "source": [
    "<h3>Data preprocessing</h3>"
   ]
  },
  {
   "cell_type": "code",
   "execution_count": 5,
   "id": "b1ed7631",
   "metadata": {},
   "outputs": [
    {
     "data": {
      "text/plain": [
       "dtype('uint8')"
      ]
     },
     "execution_count": 5,
     "metadata": {},
     "output_type": "execute_result"
    }
   ],
   "source": [
    "n1 = train_images[0].shape[0]\n",
    "n2 = train_images[0].shape[1]\n",
    "train_images.dtype"
   ]
  },
  {
   "cell_type": "code",
   "execution_count": 6,
   "id": "5c29b6ab",
   "metadata": {},
   "outputs": [],
   "source": [
    "train_images = train_images.reshape((m, n1, n2, 1))\n",
    "train_images = train_images.astype('float32')/255\n",
    "\n",
    "test_images = test_images.reshape((m_test, n1, n2, 1))\n",
    "test_images = test_images.astype('float32')/255"
   ]
  },
  {
   "cell_type": "code",
   "execution_count": 7,
   "id": "59072ad2",
   "metadata": {},
   "outputs": [],
   "source": [
    "from keras.utils import to_categorical\n",
    "\n",
    "train_labels = to_categorical(train_labels)\n",
    "test_labels = to_categorical(test_labels)"
   ]
  },
  {
   "cell_type": "markdown",
   "id": "3dff68e9",
   "metadata": {},
   "source": [
    "<h3>Cross Validation</h3>"
   ]
  },
  {
   "cell_type": "code",
   "execution_count": 8,
   "id": "7d2e55cd",
   "metadata": {},
   "outputs": [],
   "source": [
    "x_cval = train_images[:10000]\n",
    "y_cval = train_labels[:10000]\n",
    "\n",
    "x_train = train_images[10000:]\n",
    "y_train = train_labels[10000:]"
   ]
  },
  {
   "cell_type": "markdown",
   "id": "76d7cfc7",
   "metadata": {},
   "source": [
    "<h3>Model Training</h3>"
   ]
  },
  {
   "cell_type": "code",
   "execution_count": 9,
   "id": "19fbe5de",
   "metadata": {},
   "outputs": [
    {
     "name": "stdout",
     "output_type": "stream",
     "text": [
      "Epoch 1/20\n",
      "391/391 [==============================] - 21s 50ms/step - loss: 0.2706 - accuracy: 0.9182 - val_loss: 0.1496 - val_accuracy: 0.9559\n",
      "Epoch 2/20\n",
      "391/391 [==============================] - 19s 48ms/step - loss: 0.0767 - accuracy: 0.9783 - val_loss: 0.0655 - val_accuracy: 0.9805\n",
      "Epoch 3/20\n",
      "391/391 [==============================] - 19s 49ms/step - loss: 0.0498 - accuracy: 0.9850 - val_loss: 0.0648 - val_accuracy: 0.9808\n",
      "Epoch 4/20\n",
      "391/391 [==============================] - 20s 50ms/step - loss: 0.0370 - accuracy: 0.9891 - val_loss: 0.0550 - val_accuracy: 0.9832\n",
      "Epoch 5/20\n",
      "391/391 [==============================] - 19s 48ms/step - loss: 0.0280 - accuracy: 0.9917 - val_loss: 0.0545 - val_accuracy: 0.9836\n",
      "Epoch 6/20\n",
      "391/391 [==============================] - 19s 49ms/step - loss: 0.0206 - accuracy: 0.9936 - val_loss: 0.0597 - val_accuracy: 0.9834\n",
      "Epoch 7/20\n",
      "391/391 [==============================] - 20s 50ms/step - loss: 0.0152 - accuracy: 0.9954 - val_loss: 0.0510 - val_accuracy: 0.9851\n",
      "Epoch 8/20\n",
      "391/391 [==============================] - 17s 43ms/step - loss: 0.0110 - accuracy: 0.9969 - val_loss: 0.0633 - val_accuracy: 0.9835\n",
      "Epoch 9/20\n",
      "391/391 [==============================] - 17s 43ms/step - loss: 0.0078 - accuracy: 0.9978 - val_loss: 0.0572 - val_accuracy: 0.9859\n",
      "Epoch 10/20\n",
      "391/391 [==============================] - 16s 42ms/step - loss: 0.0057 - accuracy: 0.9986 - val_loss: 0.0572 - val_accuracy: 0.9855\n",
      "Epoch 11/20\n",
      "391/391 [==============================] - 18s 46ms/step - loss: 0.0043 - accuracy: 0.9992 - val_loss: 0.0627 - val_accuracy: 0.9851\n",
      "Epoch 12/20\n",
      "391/391 [==============================] - 15s 39ms/step - loss: 0.0028 - accuracy: 0.9993 - val_loss: 0.0602 - val_accuracy: 0.9865\n",
      "Epoch 13/20\n",
      "391/391 [==============================] - 15s 39ms/step - loss: 0.0021 - accuracy: 0.9994 - val_loss: 0.0979 - val_accuracy: 0.9795\n",
      "Epoch 14/20\n",
      "391/391 [==============================] - 16s 40ms/step - loss: 0.0016 - accuracy: 0.9997 - val_loss: 0.0642 - val_accuracy: 0.9870\n",
      "Epoch 15/20\n",
      "391/391 [==============================] - 16s 41ms/step - loss: 8.7576e-04 - accuracy: 0.9999 - val_loss: 0.0652 - val_accuracy: 0.9869\n",
      "Epoch 16/20\n",
      "391/391 [==============================] - 15s 39ms/step - loss: 3.6402e-04 - accuracy: 0.9999 - val_loss: 0.0697 - val_accuracy: 0.9873\n",
      "Epoch 17/20\n",
      "391/391 [==============================] - 15s 37ms/step - loss: 2.6684e-04 - accuracy: 1.0000 - val_loss: 0.0708 - val_accuracy: 0.9877\n",
      "Epoch 18/20\n",
      "391/391 [==============================] - 14s 36ms/step - loss: 1.2857e-04 - accuracy: 1.0000 - val_loss: 0.0723 - val_accuracy: 0.9874\n",
      "Epoch 19/20\n",
      "391/391 [==============================] - 14s 36ms/step - loss: 9.1605e-05 - accuracy: 1.0000 - val_loss: 0.0744 - val_accuracy: 0.9873\n",
      "Epoch 20/20\n",
      "391/391 [==============================] - 15s 37ms/step - loss: 5.5319e-05 - accuracy: 1.0000 - val_loss: 0.0777 - val_accuracy: 0.9872\n"
     ]
    }
   ],
   "source": [
    "results = network.fit(x_train, y_train, epochs = 20, batch_size = 128, validation_data = (x_cval, y_cval)) # 128 bcoz it is 256/2"
   ]
  },
  {
   "cell_type": "code",
   "execution_count": 10,
   "id": "65051894",
   "metadata": {},
   "outputs": [
    {
     "data": {
      "text/plain": [
       "dict_keys(['loss', 'accuracy', 'val_loss', 'val_accuracy'])"
      ]
     },
     "execution_count": 10,
     "metadata": {},
     "output_type": "execute_result"
    }
   ],
   "source": [
    "History = results.history\n",
    "History.keys()"
   ]
  },
  {
   "cell_type": "markdown",
   "id": "5aa77e98",
   "metadata": {},
   "source": [
    "<h3>Plotting the Training and Validation loss and accuracy</h3>"
   ]
  },
  {
   "cell_type": "code",
   "execution_count": 11,
   "id": "d14526b7",
   "metadata": {},
   "outputs": [
    {
     "data": {
      "image/png": "[encoded data removed]",
      "text/plain": [
       "<Figure size 640x480 with 1 Axes>"
      ]
     },
     "metadata": {},
     "output_type": "display_data"
    },
    {
     "data": {
      "image/png": "[encoded data removed]",
      "text/plain": [
       "<Figure size 640x480 with 1 Axes>"
      ]
     },
     "metadata": {},
     "output_type": "display_data"
    },
    {
     "data": {
      "text/plain": [
       "<Figure size 640x480 with 0 Axes>"
      ]
     },
     "metadata": {},
     "output_type": "display_data"
    }
   ],
   "source": [
    "import matplotlib.pyplot as plt\n",
    "\n",
    "epochs = range(1, len(History['loss']) + 1)\n",
    "\n",
    "# Training and Cross Validation loss\n",
    "plt.plot(epochs, History['loss'], 'bo', label = 'Training loss')\n",
    "plt.plot(epochs, History['val_loss'], 'b', label = 'Cross Validation loss')\n",
    "plt.xlabel('Epochs')\n",
    "plt.ylabel('Loss')\n",
    "plt.title('Training and Cross Validation loss')\n",
    "plt.legend()\n",
    "\n",
    "plt.show()\n",
    "plt.clf()\n",
    "\n",
    "\n",
    "# Training and Cross Validation accuracy\n",
    "plt.plot(epochs, History['accuracy'], 'bo', label = 'Training accuracy')\n",
    "plt.plot(epochs, History['val_accuracy'], 'b', label = 'Cross Validation accuracy')\n",
    "plt.xlabel('Epochs')\n",
    "plt.ylabel('Accuracy')\n",
    "plt.title('Training and Cross Validation accuracy')\n",
    "plt.legend()\n",
    "\n",
    "plt.show()\n",
    "plt.clf()"
   ]
  },
  {
   "cell_type": "markdown",
   "id": "02c05d06",
   "metadata": {},
   "source": [
    "<h3>Retraining the model</h3>"
   ]
  },
  {
   "cell_type": "code",
   "execution_count": 12,
   "id": "14a57b65",
   "metadata": {},
   "outputs": [
    {
     "name": "stdout",
     "output_type": "stream",
     "text": [
      "Epoch 1/5\n",
      "469/469 [==============================] - 17s 35ms/step - loss: 0.2409 - accuracy: 0.9289\n",
      "Epoch 2/5\n",
      "469/469 [==============================] - 17s 36ms/step - loss: 0.0722 - accuracy: 0.9792\n",
      "Epoch 3/5\n",
      "469/469 [==============================] - 16s 35ms/step - loss: 0.0472 - accuracy: 0.9855\n",
      "Epoch 4/5\n",
      "469/469 [==============================] - 16s 35ms/step - loss: 0.0345 - accuracy: 0.9897\n",
      "Epoch 5/5\n",
      "469/469 [==============================] - 18s 37ms/step - loss: 0.0253 - accuracy: 0.9928\n"
     ]
    },
    {
     "data": {
      "text/plain": [
       "<keras.callbacks.History at 0x2a006bd8dc0>"
      ]
     },
     "execution_count": 12,
     "metadata": {},
     "output_type": "execute_result"
    }
   ],
   "source": [
    "model = models.Sequential()\n",
    "# Convolution and Pooling layers\n",
    "model.add(layers.Conv2D(32, (3, 3), activation = 'relu', input_shape = (28, 28, 1)))\n",
    "model.add(layers.MaxPooling2D(2, 2))\n",
    "# Fully connected layers\n",
    "model.add(layers.Flatten())\n",
    "model.add(layers.Dense(128, activation = 'relu'))\n",
    "model.add(layers.Dense(10, activation = 'softmax'))\n",
    "\n",
    "model.compile(optimizer = 'rmsprop', loss = 'categorical_crossentropy', metrics = ['accuracy'])\n",
    "model.fit(train_images, train_labels, epochs = 5, batch_size = 128)"
   ]
  },
  {
   "cell_type": "markdown",
   "id": "6c05beae",
   "metadata": {},
   "source": [
    "<h3>Evaluating on Test data</h3>"
   ]
  },
  {
   "cell_type": "code",
   "execution_count": 13,
   "id": "ff505646",
   "metadata": {},
   "outputs": [
    {
     "name": "stdout",
     "output_type": "stream",
     "text": [
      "313/313 [==============================] - 2s 5ms/step - loss: 0.0470 - accuracy: 0.9847\n"
     ]
    },
    {
     "data": {
      "text/plain": [
       "[0.0469818189740181, 0.9847000241279602]"
      ]
     },
     "execution_count": 13,
     "metadata": {},
     "output_type": "execute_result"
    }
   ],
   "source": [
    "test_results = model.evaluate(test_images, test_labels)\n",
    "test_results"
   ]
  },
  {
   "cell_type": "markdown",
   "id": "b439be7e",
   "metadata": {},
   "source": [
    "<h3>Evaluating on Random Handwritten numbers</h3>"
   ]
  },
  {
   "cell_type": "code",
   "execution_count": 14,
   "id": "6d4ddc06",
   "metadata": {},
   "outputs": [],
   "source": [
    "(A, B), (C, D) = mnist.load_data()"
   ]
  },
  {
   "cell_type": "code",
   "execution_count": 16,
   "id": "a2b324ba",
   "metadata": {},
   "outputs": [
    {
     "data": {
      "image/png": "[encoded data removed]",
      "text/plain": [
       "<Figure size 640x480 with 1 Axes>"
      ]
     },
     "metadata": {},
     "output_type": "display_data"
    },
    {
     "name": "stdout",
     "output_type": "stream",
     "text": [
      "1/1 [==============================] - 0s 62ms/step\n",
      "The Number is [1] with a probability of 0.99963176\n"
     ]
    },
    {
     "data": {
      "text/plain": [
       "<Figure size 640x480 with 0 Axes>"
      ]
     },
     "metadata": {},
     "output_type": "display_data"
    }
   ],
   "source": [
    "import matplotlib.pyplot as plt\n",
    "import numpy as np\n",
    "\n",
    "X = A[58767]\n",
    "\n",
    "plt.imshow(X, cmap = plt.cm.binary)\n",
    "plt.show()\n",
    "\n",
    "X = X.reshape((1, 28, 28, 1))\n",
    "X = X.astype('float32')/255\n",
    "\n",
    "y = model.predict(X)\n",
    "y = y.ravel()\n",
    "\n",
    "####print(y)\n",
    "pred = np.where(y == y.max())\n",
    "print(\"The Number is\", pred[0], \"with a probability of\", y.max())\n",
    "\n",
    "plt.clf()"
   ]
  }
 ],
 "metadata": {
  "kernelspec": {
   "display_name": "Python 3 (ipykernel)",
   "language": "python",
   "name": "python3"
  },
  "language_info": {
   "codemirror_mode": {
    "name": "ipython",
    "version": 3
   },
   "file_extension": ".py",
   "mimetype": "text/x-python",
   "name": "python",
   "nbconvert_exporter": "python",
   "pygments_lexer": "ipython3",
   "version": "3.10.9"
  }
 },
 "nbformat": 4,
 "nbformat_minor": 5
}
